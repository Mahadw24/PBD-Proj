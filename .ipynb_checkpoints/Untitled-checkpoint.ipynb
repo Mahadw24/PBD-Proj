{
 "cells": [
  {
   "cell_type": "code",
   "execution_count": 10,
   "id": "ca17d74a",
   "metadata": {},
   "outputs": [
    {
     "data": {
      "text/plain": [
       "1338"
      ]
     },
     "execution_count": 10,
     "metadata": {},
     "output_type": "execute_result"
    }
   ],
   "source": [
    "import os\n",
    "import time\n",
    "from sklearn.feature_extraction.text import TfidfVectorizer\n",
    "from sklearn.cluster import KMeans\n",
    "paths = os.listdir(\"./article\")\n",
    "len(paths)"
   ]
  },
  {
   "cell_type": "code",
   "execution_count": null,
   "id": "5cb4cb30",
   "metadata": {},
   "outputs": [],
   "source": [
    "paths = os.listdir(\"./article\")\n",
    "current_directory = os.getcwd()\n",
    "abs_paths = [current_directory + \"/article/\"+s for s in paths]\n",
    "start = time.time()\n",
    "tfidf = TfidfVectorizer(input='filename',strip_accents='unicode',stop_words=\"english\")\n",
    "tfidf = tfidf.fit_transform(abs_paths[slice(0,1000)])\n",
    "end = time.time()\n",
    "duration = end-start\n",
    "print(\"Time Taken to do TF-IDF: \" + duration)\n",
    "start = time.time()\n",
    "kmeans = KMeans\n",
    "kmeans.fir(tfidf)\n",
    "end = time.time()\n",
    "duration = end-start\n",
    "print(\"Time Taken to do KMeans Clustering: \" + duration)"
   ]
  }
 ],
 "metadata": {
  "kernelspec": {
   "display_name": "Python 3 (ipykernel)",
   "language": "python",
   "name": "python3"
  },
  "language_info": {
   "codemirror_mode": {
    "name": "ipython",
    "version": 3
   },
   "file_extension": ".py",
   "mimetype": "text/x-python",
   "name": "python",
   "nbconvert_exporter": "python",
   "pygments_lexer": "ipython3",
   "version": "3.8.10"
  }
 },
 "nbformat": 4,
 "nbformat_minor": 5
}
